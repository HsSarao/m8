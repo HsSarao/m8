{
  "cells": [
    {
      "cell_type": "code",
      "execution_count": 1,
      "metadata": {
        "id": "T_VFbgHPiFJG",
        "outputId": "a317bf72-009c-4866-9ac4-909e7ae940d4",
        "colab": {
          "base_uri": "https://localhost:8080/"
        }
      },
      "outputs": [
        {
          "output_type": "stream",
          "name": "stdout",
          "text": [
            "\u001b[K     |████████████████████████████████| 9.1 MB 13.5 MB/s \n",
            "\u001b[K     |████████████████████████████████| 181 kB 74.0 MB/s \n",
            "\u001b[K     |████████████████████████████████| 164 kB 74.4 MB/s \n",
            "\u001b[K     |████████████████████████████████| 78 kB 2.0 MB/s \n",
            "\u001b[K     |████████████████████████████████| 235 kB 101.3 MB/s \n",
            "\u001b[K     |████████████████████████████████| 4.3 MB 62.2 MB/s \n",
            "\u001b[K     |████████████████████████████████| 63 kB 2.3 MB/s \n",
            "\u001b[K     |████████████████████████████████| 132 kB 77.2 MB/s \n",
            "\u001b[K     |████████████████████████████████| 423 kB 95.9 MB/s \n",
            "\u001b[K     |████████████████████████████████| 793 kB 67.0 MB/s \n",
            "\u001b[K     |████████████████████████████████| 132 kB 61.9 MB/s \n",
            "\u001b[K     |████████████████████████████████| 381 kB 93.0 MB/s \n",
            "\u001b[K     |████████████████████████████████| 51 kB 9.1 MB/s \n",
            "\u001b[?25h  Building wheel for validators (setup.py) ... \u001b[?25l\u001b[?25hdone\n",
            "\u001b[31mERROR: pip's dependency resolver does not currently take into account all the packages that are installed. This behaviour is the source of the following dependency conflicts.\n",
            "nbclient 0.6.6 requires traitlets>=5.2.2, but you have traitlets 5.1.1 which is incompatible.\n",
            "jupyter-console 5.2.0 requires prompt-toolkit<2.0.0,>=1.0.0, but you have prompt-toolkit 3.0.30 which is incompatible.\n",
            "google-colab 1.0.0 requires ipykernel~=4.10, but you have ipykernel 6.15.1 which is incompatible.\n",
            "google-colab 1.0.0 requires ipython~=5.5.0, but you have ipython 7.34.0 which is incompatible.\n",
            "google-colab 1.0.0 requires tornado~=5.1.0, but you have tornado 6.2 which is incompatible.\u001b[0m\n"
          ]
        }
      ],
      "source": [
        "!pip install -q streamlit"
      ]
    },
    {
      "cell_type": "code",
      "execution_count": 3,
      "metadata": {
        "colab": {
          "base_uri": "https://localhost:8080/"
        },
        "id": "Qer8mEjCiSNS",
        "outputId": "7eed4ab1-8f7b-4c93-ae43-cdaea403cbf4"
      },
      "outputs": [
        {
          "output_type": "stream",
          "name": "stdout",
          "text": [
            "--2022-07-23 17:06:48--  https://bin.equinox.io/c/4VmDzA7iaHb/ngrok-stable-linux-amd64.zip\n",
            "Resolving bin.equinox.io (bin.equinox.io)... 18.205.222.128, 52.202.168.65, 54.237.133.81, ...\n",
            "Connecting to bin.equinox.io (bin.equinox.io)|18.205.222.128|:443... connected.\n",
            "HTTP request sent, awaiting response... 200 OK\n",
            "Length: 13832437 (13M) [application/octet-stream]\n",
            "Saving to: ‘ngrok-stable-linux-amd64.zip.1’\n",
            "\n",
            "ngrok-stable-linux- 100%[===================>]  13.19M  11.0MB/s    in 1.2s    \n",
            "\n",
            "2022-07-23 17:06:49 (11.0 MB/s) - ‘ngrok-stable-linux-amd64.zip.1’ saved [13832437/13832437]\n",
            "\n"
          ]
        }
      ],
      "source": [
        "!wget https://bin.equinox.io/c/4VmDzA7iaHb/ngrok-stable-linux-amd64.zip"
      ]
    },
    {
      "cell_type": "code",
      "execution_count": 4,
      "metadata": {
        "colab": {
          "base_uri": "https://localhost:8080/"
        },
        "id": "WPUvoENLiK7u",
        "outputId": "04bb29aa-b47a-4f24-e373-05d1c5b0317c"
      },
      "outputs": [
        {
          "output_type": "stream",
          "name": "stdout",
          "text": [
            "Archive:  ngrok-stable-linux-amd64.zip\n",
            "  inflating: ngrok                   \n"
          ]
        }
      ],
      "source": [
        "!unzip ngrok-stable-linux-amd64.zip"
      ]
    },
    {
      "cell_type": "code",
      "execution_count": 5,
      "metadata": {
        "colab": {
          "base_uri": "https://localhost:8080/"
        },
        "id": "bh5Vc0MCQ2yw",
        "outputId": "e8959e51-f5d0-485a-fd59-f5c5548aedaa"
      },
      "outputs": [
        {
          "output_type": "stream",
          "name": "stdout",
          "text": [
            "Authtoken saved to configuration file: /root/.ngrok2/ngrok.yml\n"
          ]
        }
      ],
      "source": [
        "! /content/ngrok authtoken 22cld42QqSya4Ars9jYrv7DCwm6_3Sdy6vAsYp5XR2NLdpRg5"
      ]
    },
    {
      "cell_type": "code",
      "execution_count": 6,
      "metadata": {
        "id": "2mzhUMngxa8z"
      },
      "outputs": [],
      "source": [
        "get_ipython().system_raw('./ngrok http 8501 &')"
      ]
    },
    {
      "cell_type": "code",
      "execution_count": 7,
      "metadata": {
        "colab": {
          "base_uri": "https://localhost:8080/"
        },
        "id": "DOxrBiwbxfqT",
        "outputId": "5b81141f-1226-48b9-f581-0d6200e4a325"
      },
      "outputs": [
        {
          "output_type": "stream",
          "name": "stdout",
          "text": [
            "Execute the next cell and the go to the following URL: https://511e-34-141-254-254.ngrok.io\n"
          ]
        }
      ],
      "source": [
        "!curl -s http://localhost:4040/api/tunnels | python3 -c \\\n",
        "    'import sys, json; print(\"Execute the next cell and the go to the following URL: \" +json.load(sys.stdin)[\"tunnels\"][0][\"public_url\"])'"
      ]
    },
    {
      "cell_type": "code",
      "execution_count": null,
      "metadata": {
        "colab": {
          "background_save": true,
          "base_uri": "https://localhost:8080/"
        },
        "id": "Ccpi-aiSxk_U",
        "outputId": "e6dc8ac5-5a48-4e19-e5ff-eeefdd94b4df"
      },
      "outputs": [
        {
          "name": "stdout",
          "output_type": "stream",
          "text": [
            "\u001b[0m\n",
            "\u001b[34m\u001b[1m  You can now view your Streamlit app in your browser.\u001b[0m\n",
            "\u001b[0m\n",
            "\u001b[34m  Network URL: \u001b[0m\u001b[1mhttp://172.28.0.2:8501\u001b[0m\n",
            "\u001b[34m  External URL: \u001b[0m\u001b[1mhttp://34.86.56.142:8501\u001b[0m\n",
            "\u001b[0m\n",
            "/usr/local/lib/python3.7/dist-packages/sklearn/preprocessing/_label.py:133: DataConversionWarning: A column-vector y was passed when a 1d array was expected. Please change the shape of y to (n_samples, ), for example using ravel().\n",
            "  y = column_or_1d(y, warn=True)\n",
            "CNT_CHILDREN           float64\n",
            "AMT_INCOME_TOTAL       float64\n",
            "NAME_INCOME_TYPE       float64\n",
            "NAME_EDUCATION_TYPE    float64\n",
            "NAME_FAMILY_STATUS     float64\n",
            "NAME_HOUSING_TYPE      float64\n",
            "DAYS_BIRTH             float64\n",
            "DAYS_EMPLOYED          float64\n",
            "FLAG_PHONE             float64\n",
            "CNT_FAM_MEMBERS        float64\n",
            "CODE_GENDER_M          float64\n",
            "FLAG_OWN_CAR_Y         float64\n",
            "FLAG_OWN_REALTY_Y      float64\n",
            "FLAG_WORK_PHONE_1      float64\n",
            "FLAG_EMAIL_1           float64\n",
            "dtype: object\n",
            "1.1.5\n",
            "/usr/local/lib/python3.7/dist-packages/sklearn/preprocessing/_label.py:133: DataConversionWarning: A column-vector y was passed when a 1d array was expected. Please change the shape of y to (n_samples, ), for example using ravel().\n",
            "  y = column_or_1d(y, warn=True)\n",
            "CNT_CHILDREN           float64\n",
            "AMT_INCOME_TOTAL       float64\n",
            "NAME_INCOME_TYPE       float64\n",
            "NAME_EDUCATION_TYPE    float64\n",
            "NAME_FAMILY_STATUS     float64\n",
            "NAME_HOUSING_TYPE      float64\n",
            "DAYS_BIRTH             float64\n",
            "DAYS_EMPLOYED          float64\n",
            "FLAG_PHONE             float64\n",
            "CNT_FAM_MEMBERS        float64\n",
            "CODE_GENDER_M          float64\n",
            "FLAG_OWN_CAR_Y         float64\n",
            "FLAG_OWN_REALTY_Y      float64\n",
            "FLAG_WORK_PHONE_1      float64\n",
            "FLAG_EMAIL_1           float64\n",
            "dtype: object\n",
            "1.1.5\n",
            "/usr/local/lib/python3.7/dist-packages/sklearn/preprocessing/_label.py:133: DataConversionWarning: A column-vector y was passed when a 1d array was expected. Please change the shape of y to (n_samples, ), for example using ravel().\n",
            "  y = column_or_1d(y, warn=True)\n",
            "CNT_CHILDREN           float64\n",
            "AMT_INCOME_TOTAL       float64\n",
            "NAME_INCOME_TYPE       float64\n",
            "NAME_EDUCATION_TYPE    float64\n",
            "NAME_FAMILY_STATUS     float64\n",
            "NAME_HOUSING_TYPE      float64\n",
            "DAYS_BIRTH             float64\n",
            "DAYS_EMPLOYED          float64\n",
            "FLAG_PHONE             float64\n",
            "CNT_FAM_MEMBERS        float64\n",
            "CODE_GENDER_M          float64\n",
            "FLAG_OWN_CAR_Y         float64\n",
            "FLAG_OWN_REALTY_Y      float64\n",
            "FLAG_WORK_PHONE_1      float64\n",
            "FLAG_EMAIL_1           float64\n",
            "dtype: object\n",
            "1.1.5\n",
            "/usr/local/lib/python3.7/dist-packages/sklearn/preprocessing/_label.py:133: DataConversionWarning: A column-vector y was passed when a 1d array was expected. Please change the shape of y to (n_samples, ), for example using ravel().\n",
            "  y = column_or_1d(y, warn=True)\n",
            "CNT_CHILDREN           float64\n",
            "AMT_INCOME_TOTAL       float64\n",
            "NAME_INCOME_TYPE       float64\n",
            "NAME_EDUCATION_TYPE    float64\n",
            "NAME_FAMILY_STATUS     float64\n",
            "NAME_HOUSING_TYPE      float64\n",
            "DAYS_BIRTH             float64\n",
            "DAYS_EMPLOYED          float64\n",
            "FLAG_PHONE             float64\n",
            "CNT_FAM_MEMBERS        float64\n",
            "CODE_GENDER_M          float64\n",
            "FLAG_OWN_CAR_Y         float64\n",
            "FLAG_OWN_REALTY_Y      float64\n",
            "FLAG_WORK_PHONE_1      float64\n",
            "FLAG_EMAIL_1           float64\n",
            "dtype: object\n",
            "1.1.5\n",
            "/usr/local/lib/python3.7/dist-packages/sklearn/preprocessing/_label.py:133: DataConversionWarning: A column-vector y was passed when a 1d array was expected. Please change the shape of y to (n_samples, ), for example using ravel().\n",
            "  y = column_or_1d(y, warn=True)\n",
            "CNT_CHILDREN           float64\n",
            "AMT_INCOME_TOTAL       float64\n",
            "NAME_INCOME_TYPE       float64\n",
            "NAME_EDUCATION_TYPE    float64\n",
            "NAME_FAMILY_STATUS     float64\n",
            "NAME_HOUSING_TYPE      float64\n",
            "DAYS_BIRTH             float64\n",
            "DAYS_EMPLOYED          float64\n",
            "FLAG_PHONE             float64\n",
            "CNT_FAM_MEMBERS        float64\n",
            "CODE_GENDER_M          float64\n",
            "FLAG_OWN_CAR_Y         float64\n",
            "FLAG_OWN_REALTY_Y      float64\n",
            "FLAG_WORK_PHONE_1      float64\n",
            "FLAG_EMAIL_1           float64\n",
            "dtype: object\n",
            "1.1.5\n",
            "/usr/local/lib/python3.7/dist-packages/sklearn/preprocessing/_label.py:133: DataConversionWarning: A column-vector y was passed when a 1d array was expected. Please change the shape of y to (n_samples, ), for example using ravel().\n",
            "  y = column_or_1d(y, warn=True)\n",
            "CNT_CHILDREN           float64\n",
            "AMT_INCOME_TOTAL       float64\n",
            "NAME_INCOME_TYPE       float64\n",
            "NAME_EDUCATION_TYPE    float64\n",
            "NAME_FAMILY_STATUS     float64\n",
            "NAME_HOUSING_TYPE      float64\n",
            "DAYS_BIRTH             float64\n",
            "DAYS_EMPLOYED          float64\n",
            "FLAG_PHONE             float64\n",
            "CNT_FAM_MEMBERS        float64\n",
            "CODE_GENDER_M          float64\n",
            "FLAG_OWN_CAR_Y         float64\n",
            "FLAG_OWN_REALTY_Y      float64\n",
            "FLAG_WORK_PHONE_1      float64\n",
            "FLAG_EMAIL_1           float64\n",
            "dtype: object\n",
            "1.1.5\n",
            "/usr/local/lib/python3.7/dist-packages/sklearn/preprocessing/_label.py:133: DataConversionWarning: A column-vector y was passed when a 1d array was expected. Please change the shape of y to (n_samples, ), for example using ravel().\n",
            "  y = column_or_1d(y, warn=True)\n",
            "CNT_CHILDREN           float64\n",
            "AMT_INCOME_TOTAL       float64\n",
            "NAME_INCOME_TYPE       float64\n",
            "NAME_EDUCATION_TYPE    float64\n",
            "NAME_FAMILY_STATUS     float64\n",
            "NAME_HOUSING_TYPE      float64\n",
            "DAYS_BIRTH             float64\n",
            "DAYS_EMPLOYED          float64\n",
            "FLAG_PHONE             float64\n",
            "CNT_FAM_MEMBERS        float64\n",
            "CODE_GENDER_M          float64\n",
            "FLAG_OWN_CAR_Y         float64\n",
            "FLAG_OWN_REALTY_Y      float64\n",
            "FLAG_WORK_PHONE_1      float64\n",
            "FLAG_EMAIL_1           float64\n",
            "dtype: object\n",
            "1.1.5\n",
            "/usr/local/lib/python3.7/dist-packages/sklearn/preprocessing/_label.py:133: DataConversionWarning: A column-vector y was passed when a 1d array was expected. Please change the shape of y to (n_samples, ), for example using ravel().\n",
            "  y = column_or_1d(y, warn=True)\n",
            "CNT_CHILDREN           float64\n",
            "AMT_INCOME_TOTAL       float64\n",
            "NAME_INCOME_TYPE       float64\n",
            "NAME_EDUCATION_TYPE    float64\n",
            "NAME_FAMILY_STATUS     float64\n",
            "NAME_HOUSING_TYPE      float64\n",
            "DAYS_BIRTH             float64\n",
            "DAYS_EMPLOYED          float64\n",
            "FLAG_PHONE             float64\n",
            "CNT_FAM_MEMBERS        float64\n",
            "CODE_GENDER_M          float64\n",
            "FLAG_OWN_CAR_Y         float64\n",
            "FLAG_OWN_REALTY_Y      float64\n",
            "FLAG_WORK_PHONE_1      float64\n",
            "FLAG_EMAIL_1           float64\n",
            "dtype: object\n",
            "1.1.5\n",
            "/usr/local/lib/python3.7/dist-packages/sklearn/preprocessing/_label.py:133: DataConversionWarning: A column-vector y was passed when a 1d array was expected. Please change the shape of y to (n_samples, ), for example using ravel().\n",
            "  y = column_or_1d(y, warn=True)\n",
            "CNT_CHILDREN           float64\n",
            "AMT_INCOME_TOTAL       float64\n",
            "NAME_INCOME_TYPE       float64\n",
            "NAME_EDUCATION_TYPE    float64\n",
            "NAME_FAMILY_STATUS     float64\n",
            "NAME_HOUSING_TYPE      float64\n",
            "DAYS_BIRTH             float64\n",
            "DAYS_EMPLOYED          float64\n",
            "FLAG_PHONE             float64\n",
            "CNT_FAM_MEMBERS        float64\n",
            "CODE_GENDER_M          float64\n",
            "FLAG_OWN_CAR_Y         float64\n",
            "FLAG_OWN_REALTY_Y      float64\n",
            "FLAG_WORK_PHONE_1      float64\n",
            "FLAG_EMAIL_1           float64\n",
            "dtype: object\n",
            "1.1.5\n",
            "/usr/local/lib/python3.7/dist-packages/sklearn/preprocessing/_label.py:133: DataConversionWarning: A column-vector y was passed when a 1d array was expected. Please change the shape of y to (n_samples, ), for example using ravel().\n",
            "  y = column_or_1d(y, warn=True)\n",
            "CNT_CHILDREN           float64\n",
            "AMT_INCOME_TOTAL       float64\n",
            "NAME_INCOME_TYPE       float64\n",
            "NAME_EDUCATION_TYPE    float64\n",
            "NAME_FAMILY_STATUS     float64\n",
            "NAME_HOUSING_TYPE      float64\n",
            "DAYS_BIRTH             float64\n",
            "DAYS_EMPLOYED          float64\n",
            "FLAG_PHONE             float64\n",
            "CNT_FAM_MEMBERS        float64\n",
            "CODE_GENDER_M          float64\n",
            "FLAG_OWN_CAR_Y         float64\n",
            "FLAG_OWN_REALTY_Y      float64\n",
            "FLAG_WORK_PHONE_1      float64\n",
            "FLAG_EMAIL_1           float64\n",
            "dtype: object\n",
            "1.1.5\n",
            "/usr/local/lib/python3.7/dist-packages/sklearn/preprocessing/_label.py:133: DataConversionWarning: A column-vector y was passed when a 1d array was expected. Please change the shape of y to (n_samples, ), for example using ravel().\n",
            "  y = column_or_1d(y, warn=True)\n",
            "CNT_CHILDREN           float64\n",
            "AMT_INCOME_TOTAL       float64\n",
            "NAME_INCOME_TYPE       float64\n",
            "NAME_EDUCATION_TYPE    float64\n",
            "NAME_FAMILY_STATUS     float64\n",
            "NAME_HOUSING_TYPE      float64\n",
            "DAYS_BIRTH             float64\n",
            "DAYS_EMPLOYED          float64\n",
            "FLAG_PHONE             float64\n",
            "CNT_FAM_MEMBERS        float64\n",
            "CODE_GENDER_M          float64\n",
            "FLAG_OWN_CAR_Y         float64\n",
            "FLAG_OWN_REALTY_Y      float64\n",
            "FLAG_WORK_PHONE_1      float64\n",
            "FLAG_EMAIL_1           float64\n",
            "dtype: object\n",
            "1.1.5\n"
          ]
        }
      ],
      "source": [
        "!streamlit run /content/app.py"
      ]
    },
    {
      "cell_type": "code",
      "execution_count": null,
      "metadata": {
        "id": "_MPWDunzxpRF"
      },
      "outputs": [],
      "source": [
        "!pip3 freeze > requirements.txt"
      ]
    },
    {
      "cell_type": "code",
      "execution_count": null,
      "metadata": {
        "id": "hrZUKAixc2tH"
      },
      "outputs": [],
      "source": [
        ""
      ]
    }
  ],
  "metadata": {
    "colab": {
      "collapsed_sections": [],
      "name": "Streamlit-serving.ipynb",
      "provenance": []
    },
    "kernelspec": {
      "display_name": "Python 3",
      "name": "python3"
    },
    "language_info": {
      "name": "python"
    }
  },
  "nbformat": 4,
  "nbformat_minor": 0
}